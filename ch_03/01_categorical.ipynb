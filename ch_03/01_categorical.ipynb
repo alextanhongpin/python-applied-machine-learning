{
 "cells": [
  {
   "cell_type": "code",
   "execution_count": 1,
   "id": "538b9000-4c66-4c17-b2da-db9e412573d2",
   "metadata": {},
   "outputs": [
    {
     "data": {
      "text/html": [
       "<div>\n",
       "<style scoped>\n",
       "    .dataframe tbody tr th:only-of-type {\n",
       "        vertical-align: middle;\n",
       "    }\n",
       "\n",
       "    .dataframe tbody tr th {\n",
       "        vertical-align: top;\n",
       "    }\n",
       "\n",
       "    .dataframe thead th {\n",
       "        text-align: right;\n",
       "    }\n",
       "</style>\n",
       "<table border=\"1\" class=\"dataframe\">\n",
       "  <thead>\n",
       "    <tr style=\"text-align: right;\">\n",
       "      <th></th>\n",
       "      <th>Length</th>\n",
       "      <th>Color</th>\n",
       "    </tr>\n",
       "  </thead>\n",
       "  <tbody>\n",
       "    <tr>\n",
       "      <th>0</th>\n",
       "      <td>10</td>\n",
       "      <td>red</td>\n",
       "    </tr>\n",
       "    <tr>\n",
       "      <th>1</th>\n",
       "      <td>20</td>\n",
       "      <td>blue</td>\n",
       "    </tr>\n",
       "    <tr>\n",
       "      <th>2</th>\n",
       "      <td>12</td>\n",
       "      <td>red</td>\n",
       "    </tr>\n",
       "    <tr>\n",
       "      <th>3</th>\n",
       "      <td>16</td>\n",
       "      <td>green</td>\n",
       "    </tr>\n",
       "    <tr>\n",
       "      <th>4</th>\n",
       "      <td>22</td>\n",
       "      <td>blue</td>\n",
       "    </tr>\n",
       "  </tbody>\n",
       "</table>\n",
       "</div>"
      ],
      "text/plain": [
       "   Length  Color\n",
       "0      10    red\n",
       "1      20   blue\n",
       "2      12    red\n",
       "3      16  green\n",
       "4      22   blue"
      ]
     },
     "execution_count": 1,
     "metadata": {},
     "output_type": "execute_result"
    }
   ],
   "source": [
    "import pandas as pd\n",
    "from sklearn.preprocessing import LabelEncoder\n",
    "\n",
    "data = [[10, \"red\"], [20, \"blue\"], [12, \"red\"], [16, \"green\"], [22, \"blue\"]]\n",
    "df = pd.DataFrame(data, columns=[\"Length\", \"Color\"])\n",
    "df.head()"
   ]
  },
  {
   "cell_type": "code",
   "execution_count": 2,
   "id": "74fe394c-b7a5-4bff-b4d6-6c1856c1cc6c",
   "metadata": {},
   "outputs": [
    {
     "ename": "NameError",
     "evalue": "name 'encoder' is not defined",
     "output_type": "error",
     "traceback": [
      "\u001b[31m---------------------------------------------------------------------------\u001b[39m",
      "\u001b[31mNameError\u001b[39m                                 Traceback (most recent call last)",
      "\u001b[36mCell\u001b[39m\u001b[36m \u001b[39m\u001b[32mIn[2]\u001b[39m\u001b[32m, line 1\u001b[39m\n\u001b[32m----> \u001b[39m\u001b[32m1\u001b[39m df[\u001b[33m\"\u001b[39m\u001b[33mColor\u001b[39m\u001b[33m\"\u001b[39m] = \u001b[43mencoder\u001b[49m.fit_transform(df[\u001b[33m\"\u001b[39m\u001b[33mColor\u001b[39m\u001b[33m\"\u001b[39m])\n\u001b[32m      2\u001b[39m df.head()\n",
      "\u001b[31mNameError\u001b[39m: name 'encoder' is not defined"
     ]
    }
   ],
   "source": [
    "df[\"Color\"] = encoder.fit_transform(df[\"Color\"])\n",
    "df.head()"
   ]
  },
  {
   "cell_type": "code",
   "execution_count": null,
   "id": "8ec02f34-75a2-4530-b38d-e551f1147d81",
   "metadata": {},
   "outputs": [],
   "source": [
    "data = [[10, \"red\"], [20, \"blue\"], [12, \"red\"], [16, \"green\"], [22, \"blue\"]]\n",
    "df = pd.DataFrame(data, columns=[\"Length\", \"Color\"])\n",
    "\n",
    "# one-hot encoding\n",
    "df = pd.get_dummies(df, columns=[\"Color\"])\n",
    "df.head()"
   ]
  },
  {
   "cell_type": "code",
   "execution_count": null,
   "id": "39733498-e9f7-4cfb-bae7-accc5cbf9416",
   "metadata": {},
   "outputs": [],
   "source": [
    "import pandas as pd\n",
    "\n",
    "df = pd.read_csv(\"titanic.csv\")\n",
    "df.head()"
   ]
  },
  {
   "cell_type": "code",
   "execution_count": null,
   "id": "a51665d9-1921-488f-86c4-9477f7a02f55",
   "metadata": {},
   "outputs": [],
   "source": [
    "df.info()"
   ]
  },
  {
   "cell_type": "code",
   "execution_count": null,
   "id": "1912a137-3b06-4eb1-a43d-c1584152582c",
   "metadata": {},
   "outputs": [],
   "source": [
    "df = df[[\"Survived\", \"Age\", \"Sex\", \"Pclass\"]]\n",
    "df = pd.get_dummies(df, columns=[\"Sex\", \"Pclass\"])\n",
    "df.dropna(inplace=True)\n",
    "df.head()"
   ]
  },
  {
   "cell_type": "code",
   "execution_count": null,
   "id": "7a44bb92-78aa-4ec5-a33a-907b1ec57ad0",
   "metadata": {},
   "outputs": [],
   "source": [
    "from sklearn.model_selection import train_test_split\n",
    "\n",
    "X = df.drop(\"Survived\", axis=1)\n",
    "y = df[\"Survived\"]\n",
    "\n",
    "X_train, X_test, y_train, y_test = train_test_split(\n",
    "    X, y, test_size=0.2, stratify=y, random_state=0\n",
    ")"
   ]
  },
  {
   "cell_type": "code",
   "execution_count": null,
   "id": "8ed91c70-a1a5-445d-9ef1-10c09da9792a",
   "metadata": {},
   "outputs": [],
   "source": [
    "from sklearn.linear_model import LogisticRegression\n",
    "\n",
    "model = LogisticRegression(random_state=0)\n",
    "model.fit(X_train, y_train)\n",
    "model.score(X_test, y_test)"
   ]
  },
  {
   "cell_type": "code",
   "execution_count": null,
   "id": "4cdf92c5-1570-42ee-96ef-702b914e99d9",
   "metadata": {},
   "outputs": [],
   "source": [
    "from sklearn.model_selection import cross_val_score\n",
    "\n",
    "cross_val_score(model, X, y, cv=5).mean()"
   ]
  },
  {
   "cell_type": "code",
   "execution_count": null,
   "id": "4e5b98ff-a8c7-4d2f-a6f2-c862c7e20542",
   "metadata": {},
   "outputs": [],
   "source": [
    "from sklearn.metrics import ConfusionMatrixDisplay as cmd\n",
    "\n",
    "cmd.from_estimator(\n",
    "    model,\n",
    "    X_test,\n",
    "    y_test,\n",
    "    display_labels=[\"Perished\", \"Survived\"],\n",
    "    cmap=\"Blues\",\n",
    "    xticks_rotation=\"vertical\",\n",
    ");"
   ]
  },
  {
   "cell_type": "code",
   "execution_count": null,
   "id": "7ce58411-3a34-4d4b-a865-a74a0b82679d",
   "metadata": {},
   "outputs": [],
   "source": [
    "from sklearn.metrics import precision_score, recall_score\n",
    "\n",
    "y_pred = model.predict(X_test)\n",
    "precision = precision_score(y_test, y_pred)\n",
    "recall = recall_score(y_test, y_pred)\n",
    "sensitivity = recall\n",
    "specificity = recall_score(y_test, y_pred, pos_label=0)\n",
    "\n",
    "print(\"Precision:\", precision)\n",
    "print(\"Recall:\", recall)\n",
    "print(\"Sensitivity:\", sensitivity)\n",
    "print(\"Specificity:\", specificity)"
   ]
  },
  {
   "cell_type": "code",
   "execution_count": null,
   "id": "95dbd37d-09e3-4ecc-8f9f-2a8b1da93d44",
   "metadata": {},
   "outputs": [],
   "source": [
    "female = pd.DataFrame(\n",
    "    {\n",
    "        \"Age\": [30],\n",
    "        \"Sex_female\": [1],\n",
    "        \"Sex_male\": [0],\n",
    "        \"Pclass_1\": [1],\n",
    "        \"Pclass_2\": [0],\n",
    "        \"Pclass_3\": [0],\n",
    "    }\n",
    ")\n",
    "model.predict(female)[0]"
   ]
  },
  {
   "cell_type": "code",
   "execution_count": null,
   "id": "f21e5efc-9dc1-4b4d-8c8f-c3f0332721cf",
   "metadata": {},
   "outputs": [],
   "source": [
    "probability = model.predict_proba(female)[0][1]\n",
    "print(f\"Probability of survival: {probability:.1%}\")"
   ]
  },
  {
   "cell_type": "code",
   "execution_count": null,
   "id": "c7baccd9-6e72-42e4-8333-1a5124a140ab",
   "metadata": {},
   "outputs": [],
   "source": [
    "male = pd.DataFrame(\n",
    "    {\n",
    "        \"Age\": [60],\n",
    "        \"Sex_female\": [0],\n",
    "        \"Sex_male\": [1],\n",
    "        \"Pclass_1\": [0],\n",
    "        \"Pclass_2\": [0],\n",
    "        \"Pclass_3\": [1],\n",
    "    }\n",
    ")\n",
    "model.predict(male)[0]"
   ]
  },
  {
   "cell_type": "code",
   "execution_count": null,
   "id": "0c9653cc-c0f3-4b79-89c8-c096ae971cc1",
   "metadata": {},
   "outputs": [],
   "source": [
    "probability = model.predict_proba(male)[0][1]\n",
    "print(f\"Probability of survival: {probability:.1%}\")"
   ]
  }
 ],
 "metadata": {
  "kernelspec": {
   "display_name": "Python 3 (ipykernel)",
   "language": "python",
   "name": "python3"
  },
  "language_info": {
   "codemirror_mode": {
    "name": "ipython",
    "version": 3
   },
   "file_extension": ".py",
   "mimetype": "text/x-python",
   "name": "python",
   "nbconvert_exporter": "python",
   "pygments_lexer": "ipython3",
   "version": "3.12.9"
  }
 },
 "nbformat": 4,
 "nbformat_minor": 5
}
