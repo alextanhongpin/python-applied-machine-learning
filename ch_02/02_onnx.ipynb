{
 "cells": [
  {
   "cell_type": "code",
   "execution_count": 12,
   "id": "6c14ceba-ff16-48c1-911e-3bb7742712f9",
   "metadata": {},
   "outputs": [
    {
     "data": {
      "text/plain": [
       "np.float32(11.4910555)"
      ]
     },
     "execution_count": 12,
     "metadata": {},
     "output_type": "execute_result"
    }
   ],
   "source": [
    "import numpy as np\n",
    "import onnxruntime as rt\n",
    "\n",
    "session = rt.InferenceSession(\"taxi.onnx\")\n",
    "input_name = session.get_inputs()[0].name  # float_input\n",
    "label_name = session.get_outputs()[0].name  # output_probability\n",
    "\n",
    "\n",
    "input = np.array(\n",
    "    [\n",
    "        [\n",
    "            4.0,  # Day of week\n",
    "            17.0, # Pickup time (hour of day)\n",
    "            2.0,  # Distance to travel\n",
    "        ]\n",
    "    ],\n",
    "    dtype=np.float32,\n",
    ")\n",
    "score = session.run([label_name], {input_name: input})[0][0][0]\n",
    "score"
   ]
  },
  {
   "cell_type": "code",
   "execution_count": null,
   "id": "d5219cb6-f7fa-4032-88f7-30b9bc364b80",
   "metadata": {},
   "outputs": [],
   "source": []
  }
 ],
 "metadata": {
  "kernelspec": {
   "display_name": "Python 3 (ipykernel)",
   "language": "python",
   "name": "python3"
  },
  "language_info": {
   "codemirror_mode": {
    "name": "ipython",
    "version": 3
   },
   "file_extension": ".py",
   "mimetype": "text/x-python",
   "name": "python",
   "nbconvert_exporter": "python",
   "pygments_lexer": "ipython3",
   "version": "3.12.9"
  }
 },
 "nbformat": 4,
 "nbformat_minor": 5
}
